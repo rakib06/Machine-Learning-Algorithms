{
 "cells": [
  {
   "cell_type": "markdown",
   "metadata": {},
   "source": [
    "# Advantages: Numpy Array Over List\n",
    "\n",
    "   ### Save Coding Time\n",
    "```python\n",
    "    - No for loops: many vector and matrix operations save coding time\n",
    "```\n",
    "   ### Faster Execution\n",
    "```python\n",
    "    - single type for each field to avoid type checking\n",
    "    - Uses contiguous blocks of memory\n",
    "```\n",
    "\n",
    "   ### Uses less memory\n",
    "```python\n",
    "    - Python List: an array of pointers to python objects,\n",
    "        with 4B+ per pointers plus 16B+ for a numerical object\n",
    "    - Numpy Array: No pointers; * type and itemsize is same for columns\n",
    "    - Compact data types like uint8 and flot\n",
    "```\n"
   ]
  },
  {
   "cell_type": "code",
   "execution_count": null,
   "metadata": {},
   "outputs": [],
   "source": []
  }
 ],
 "metadata": {
  "kernelspec": {
   "display_name": "Python 3",
   "language": "python",
   "name": "python3"
  },
  "language_info": {
   "codemirror_mode": {
    "name": "ipython",
    "version": 3
   },
   "file_extension": ".py",
   "mimetype": "text/x-python",
   "name": "python",
   "nbconvert_exporter": "python",
   "pygments_lexer": "ipython3",
   "version": "3.6.8"
  }
 },
 "nbformat": 4,
 "nbformat_minor": 4
}
