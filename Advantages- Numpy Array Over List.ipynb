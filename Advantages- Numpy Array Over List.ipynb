{
 "cells": [
  {
   "cell_type": "markdown",
   "metadata": {},
   "source": [
    "# Advantages: Numpy Array Over List\n",
    "\n",
    "   ### Save Coding Time\n",
    "```python\n",
    "    - No for loops: many vector and matrix operations save coding time\n",
    "        Example:\n",
    "        # python list\n",
    "        my_list = [1,2,3]\n",
    "        for i in range(len(my_list)):\n",
    "            my_list[i] *= 3\n",
    "        print(\"python for loop => \",my_list)\n",
    "        \n",
    "        # Numpy array\n",
    "        import numpy as np\n",
    "        np_array = np.array([1,2,3])\n",
    "        print('numpy output => ', np_array*3)\n",
    "        \n",
    "```\n",
    "   ### Faster Execution\n",
    "```python\n",
    "    - single type for each field to avoid type checking\n",
    "    - Uses contiguous blocks of memory\n",
    "```\n",
    "\n",
    "   ### Uses less memory\n",
    "```python\n",
    "    - Python List: an array of pointers to python objects,\n",
    "        with 4B+ per pointers plus 16B+ for a numerical object, (uses metadata         for every object)\n",
    "    - Numpy Array: No pointers; * type and itemsize is same for columns\n",
    "    - Compact data types like uint8 and float16\n",
    "```\n",
    "\n",
    "\n"
   ]
  },
  {
   "attachments": {},
   "cell_type": "markdown",
   "metadata": {},
   "source": [
    "![List vs Numpy](images/numpy_list.png)\n"
   ]
  },
  {
   "cell_type": "code",
   "execution_count": 1,
   "metadata": {},
   "outputs": [
    {
     "name": "stdout",
     "output_type": "stream",
     "text": [
      "Initiate Numpy =>  [2 3 4]\n",
      "python for loop =>  [3, 6, 9]\n",
      "numpy output =>  [3 6 9]\n",
      "range function =>  [ 1  3  5  7  9 11]\n",
      "Linear Spaced array =>  [ 1.  2.  3.  4.  5.  6.  7.  8.  9. 10. 11. 12.]\n"
     ]
    },
    {
     "data": {
      "text/plain": [
       "[<matplotlib.lines.Line2D at 0x1fa0943d0f0>]"
      ]
     },
     "execution_count": 1,
     "metadata": {},
     "output_type": "execute_result"
    },
    {
     "data": {
      "image/png": "[encoded data removed]",
      "text/plain": [
       "<Figure size 432x288 with 1 Axes>"
      ]
     },
     "metadata": {
      "needs_background": "light"
     },
     "output_type": "display_data"
    }
   ],
   "source": [
    "import numpy as np\n",
    "# declaration \n",
    "a = np.array([2,3,4])\n",
    "print(\"Initiate Numpy => \",a)\n",
    "\n",
    "# using list\n",
    "my_list = [1,2,3]\n",
    "for i in range(len(my_list)):\n",
    "    my_list[i] *= 3\n",
    "print(\"python for loop => \",my_list)\n",
    "\n",
    "# using Numpy array\n",
    "\n",
    "np_array = np.array([1,2,3])\n",
    "print('numpy output => ', np_array*3)\n",
    "\n",
    "# range functin\n",
    "b = np.arange(1,12,2) # (start,end,step)\n",
    "print('range function => ', b)\n",
    "\n",
    "# linear Spaced Array\n",
    "N = 12\n",
    "c = np.linspace(1, 12, N) # (start, end, number of elements) => floating point array\n",
    "print('Linear Spaced array => ',c)\n",
    "# what is linear spaced array?\n",
    "import matplotlib.pyplot as plt\n",
    "y = np.zeros(N)\n",
    "plt.xlim([0, 15])\n",
    "plt.plot(c, y+2, 'o') # 'o' => orrange"
   ]
  },
  {
   "cell_type": "code",
   "execution_count": 2,
   "metadata": {},
   "outputs": [
    {
     "name": "stdout",
     "output_type": "stream",
     "text": [
      "reshape output: \n",
      " [[ 1.  2.  3.  4.]\n",
      " [ 5.  6.  7.  8.]\n",
      " [ 9. 10. 11. 12.]] \n",
      "\n",
      "size does not depend on shape. After reshaping size =  12\n",
      "---\n",
      "shape =  (3, 4) data type =  float64\n",
      "item size =  8  byte (how much memory in byte)\n"
     ]
    }
   ],
   "source": [
    "# reshape\n",
    "c = c.reshape(3,4)\n",
    "print('reshape output: \\n',c,'\\n')\n",
    "print('size does not depend on shape. After reshaping size = ',c.size)\n",
    "print('---\\nshape = ',c.shape, 'data type = ', c.dtype)\n",
    "print('item size = ', c.itemsize, ' byte (how much memory in byte)')"
   ]
  },
  {
   "cell_type": "markdown",
   "metadata": {},
   "source": [
    "###### * Some console examples\n",
    "\n",
    "```python\n",
    ">>> a = np.array([(1,2,3),(4,5,6)]) \n",
    ">>> a\n",
    "array([[1, 2, 3],\n",
    "       [4, 5, 6]])\n",
    ">>> a < 4 \n",
    "array([[ True,  True,  True],\n",
    "       [False, False, False]])\n",
    ">>> a *3\n",
    "array([[ 3,  6,  9],\n",
    "       [12, 15, 18]])\n",
    ">>> a = np.zeros((3,4),dtype=int) \n",
    ">>> a\n",
    "array([[0, 0, 0, 0],\n",
    "       [0, 0, 0, 0],\n",
    "       [0, 0, 0, 0]])\n",
    ">>> a = np.ones((2,3))\n",
    ">>> a\n",
    "array([[1., 1., 1.],\n",
    "       [1., 1., 1.]])\n",
    ">>> a = np.ones(10)\n",
    ">>> a\n",
    "array([1., 1., 1., 1., 1., 1., 1., 1., 1., 1.])\n",
    ">>> a = np.random.random((3,5))\n",
    ">>> a\n",
    "array([[0.86582116, 0.29724897, 0.54702738, 0.85751898, 0.6457486 ],\n",
    "       [0.50709285, 0.84785754, 0.82507784, 0.39390458, 0.61538597],\n",
    "       [0.62747913, 0.84032029, 0.10426593, 0.78443683, 0.16058113]])\n",
    ">>> np.set_printoptions(precision=2)\n",
    ">>> a\n",
    "array([[0.87, 0.3 , 0.55, 0.86, 0.65],\n",
    "       [0.51, 0.85, 0.83, 0.39, 0.62],\n",
    "       [0.63, 0.84, 0.1 , 0.78, 0.16]])\n",
    ">>> a = np.random.randint(0,10,5) # (start, end, size)) \n",
    ">>> a\n",
    "array([6, 0, 3, 8, 9])\n",
    ">>> a = np.random.randint(0,10,(5,4)) # (start, end, size))  \n",
    ">>> a\n",
    "array([[6, 2, 8, 7],\n",
    "       [8, 2, 4, 6],\n",
    "       [4, 9, 3, 1],\n",
    "       [6, 7, 5, 4],\n",
    "       [4, 3, 0, 2]])\n",
    ">>> a.sum()\n",
    "91\n",
    ">>> a[0].sum() \n",
    "23\n",
    ">>> a.sum(axis=1)\n",
    "array([23, 20, 17, 22,  9])\n",
    ">>> a.sum(axis=0) \n",
    "array([28, 23, 20, 20])\n",
    ">>> a.min\n",
    "<built-in method min of numpy.ndarray object at 0x000002683C773F30>\n",
    ">>> a.min()\n",
    "0\n",
    ">>> a.max()\n",
    "9\n",
    ">>> a.mean()\n",
    "4.55\n",
    ">>> a.var() # variance\n",
    "6.0475\n",
    ">>> a.std()\n",
    "2.4591665254715878\n",
    "\n",
    "# load array from text file\n",
    ">>> data = np.loadtxt(\"data.txt\", dtype=np.uint8, delimiter=\",\", skiprows=1)\n",
    ">>> data                                                                      \n",
    "array([[1, 2, 3],\n",
    "       [1, 2, 3]], dtype=uint8)\n",
    "\n",
    "# randomness and shuffles \n",
    ">>> a = np.arange(10)  \n",
    ">>> a\n",
    "array([0, 1, 2, 3, 4, 5, 6, 7, 8, 9])\n",
    ">>> np.random.shuffle(a)      \n",
    ">>> a\n",
    "array([1, 0, 7, 6, 8, 9, 5, 2, 3, 4])\n",
    ">>> np.random.choice(a)\n",
    "7\n",
    ">>> np.random.choice(a)\n",
    "1\n",
    ">>> np.random.random_integers(5,10,2) # (start, end, size)                      \n",
    "array([5, 8])\n",
    ">>> np.random.random_integers(5,10,(2,3)) # (start, end, size) \n",
    "array([[ 5,  9, 10],\n",
    "       [ 8,  8,  5]])\n",
    "\n",
    "```"
   ]
  },
  {
   "cell_type": "markdown",
   "metadata": {},
   "source": [
    "###### Aknowledgement: \n",
    "Joe James"
   ]
  }
 ],
 "metadata": {
  "kernelspec": {
   "display_name": "Python 3",
   "language": "python",
   "name": "python3"
  },
  "language_info": {
   "codemirror_mode": {
    "name": "ipython",
    "version": 3
   },
   "file_extension": ".py",
   "mimetype": "text/x-python",
   "name": "python",
   "nbconvert_exporter": "python",
   "pygments_lexer": "ipython3",
   "version": "3.6.8"
  }
 },
 "nbformat": 4,
 "nbformat_minor": 4
}
